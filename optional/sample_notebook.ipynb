{
 "cells": [
  {
   "cell_type": "markdown",
   "metadata": {},
   "source": [
    "# Notebook showing how to use the functions"
   ]
  },
  {
   "cell_type": "code",
   "execution_count": 1,
   "metadata": {},
   "outputs": [],
   "source": [
    "import warnings\n",
    "\n",
    "warnings.filterwarnings(\"ignore\")\n",
    "\n",
    "import pandas as pd\n",
    "import numpy as np"
   ]
  },
  {
   "cell_type": "code",
   "execution_count": 2,
   "metadata": {},
   "outputs": [],
   "source": [
    "data = {'col_1': [3, 2, 1, 0], 'col_2': [4,5,6,np.nan], 'col_3': [4,5,6,np.nan]}\n",
    "df = pd.DataFrame.from_dict(data)"
   ]
  },
  {
   "cell_type": "code",
   "execution_count": 3,
   "metadata": {},
   "outputs": [
    {
     "name": "stdout",
     "output_type": "stream",
     "text": [
      "Number of missing values col_2:  1\n",
      "Number of missing values col_3:  1\n"
     ]
    }
   ],
   "source": [
    "print(\"Number of missing values col_2: \", df.col_2.isnull().sum())\n",
    "print(\"Number of missing values col_3: \", df.col_3.isnull().sum())"
   ]
  },
  {
   "cell_type": "code",
   "execution_count": 4,
   "metadata": {},
   "outputs": [],
   "source": [
    "# having the function in the notebook\n",
    "\n",
    "# function to impute NaNs with mean value\n",
    "def impute(series: pd.Series) -> pd.Series:\n",
    "    mean = series.mean()\n",
    "    return series.fillna(mean)"
   ]
  },
  {
   "cell_type": "code",
   "execution_count": 5,
   "metadata": {},
   "outputs": [
    {
     "name": "stdout",
     "output_type": "stream",
     "text": [
      "Number of missing values col_2:  0\n",
      "Number of missing values col_3:  1\n"
     ]
    }
   ],
   "source": [
    "df[\"col_2\"] = impute(df[\"col_2\"])\n",
    "print(\"Number of missing values col_2: \", df.col_2.isnull().sum())\n",
    "print(\"Number of missing values col_3: \", df.col_3.isnull().sum())"
   ]
  },
  {
   "cell_type": "markdown",
   "metadata": {},
   "source": [
    "### After data cleaning step\n",
    "\n",
    "Move functions to python scripts, and then also update the notebook to call the functions. This will greatly reduce the copy pasting.. especially when you have more notebooks in larger projects"
   ]
  },
  {
   "cell_type": "code",
   "execution_count": 6,
   "metadata": {},
   "outputs": [
    {
     "name": "stdout",
     "output_type": "stream",
     "text": [
      "Number of missing values col_2:  0\n",
      "Number of missing values col_3:  0\n"
     ]
    }
   ],
   "source": [
    "# calling the function from the script\n",
    "# as the notebook is in the same folder the import doesn't need scripts.data_preprocessing\n",
    "from data_processing import impute_mean\n",
    "df[\"col_3\"] = impute_mean(df[\"col_3\"])\n",
    "print(\"Number of missing values col_2: \", df.col_2.isnull().sum())\n",
    "print(\"Number of missing values col_3: \", df.col_3.isnull().sum())"
   ]
  }
 ],
 "metadata": {
  "interpreter": {
   "hash": "a39f73e667b9897de53a37d138ec9b88b59be315d78467b424e708603af89a63"
  },
  "kernelspec": {
   "display_name": "Python 3.9.4 64-bit ('.venv': venv)",
   "language": "python",
   "name": "python3"
  },
  "language_info": {
   "codemirror_mode": {
    "name": "ipython",
    "version": 3
   },
   "file_extension": ".py",
   "mimetype": "text/x-python",
   "name": "python",
   "nbconvert_exporter": "python",
   "pygments_lexer": "ipython3",
   "version": "3.9.4"
  },
  "orig_nbformat": 4
 },
 "nbformat": 4,
 "nbformat_minor": 2
}
